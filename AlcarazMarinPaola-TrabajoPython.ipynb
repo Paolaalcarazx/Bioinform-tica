{
 "cells": [
  {
   "cell_type": "markdown",
   "metadata": {},
   "source": [
    "# TRABAJO DE PYTHON\n",
    "\n",
    "### Este trabajo cuenta el 30% de la nota. La entrega será el 5 de Noviembre a las 23:59.\n",
    "\n",
    "### Resuelve los siguientes ejercicios en Python sin usar expresiones regulares\n",
    "\n",
    "#### Utiliza tantas celdas de código como necesites\n",
    "\n",
    "##\n",
    "\n",
    "\n",
    "\n",
    "\n",
    "\n",
    "\n",
    "\n"
   ]
  },
  {
   "cell_type": "markdown",
   "metadata": {},
   "source": [
    "### 1.- BUSCA LA SECUENCIA COMPLEMENTARIA\n",
    "#### Devuelve la secuencia complementaria de la siguiente secuencia de ADN"
   ]
  },
  {
   "cell_type": "code",
   "execution_count": 2,
   "metadata": {},
   "outputs": [],
   "source": [
    "my_dna = \"ACTGATCGATTACGTATAGTATTTGCTATCATACATATATATCGATGCGTTCAT\""
   ]
  },
  {
   "cell_type": "code",
   "execution_count": 11,
   "metadata": {},
   "outputs": [],
   "source": [
    "def complemento_dna(secuencia):\n",
    "    complemento = \"\"\n",
    "    for base in secuencia:\n",
    "        if base == \"A\":\n",
    "            complemento += \"T\"\n",
    "        elif base == \"T\":\n",
    "            complemento += \"A\"\n",
    "        elif base == \"C\":\n",
    "            complemento += \"G\"\n",
    "        elif base == \"G\":\n",
    "            complemento += \"C\"\n",
    "        else:\n",
    "            complemento += base \n",
    "    return complemento"
   ]
  },
  {
   "cell_type": "code",
   "execution_count": 12,
   "metadata": {},
   "outputs": [
    {
     "name": "stdout",
     "output_type": "stream",
     "text": [
      "TGACTAGCTAATGCATATCATAAACGATAGTATGTATATATAGCTACGCAAGTA\n"
     ]
    }
   ],
   "source": [
    "complemento = complemento_dna(my_dna)\n",
    "print(complemento)"
   ]
  },
  {
   "cell_type": "markdown",
   "metadata": {},
   "source": [
    "##\n",
    "### 2.- FRAGMENTOS DE RESTRICCION\n",
    "#### Obtén los fragmentos de restricción de EcoRI, que tiene un sitio de corte en G*AATTC (la posición de corte se indica por el *).\n",
    "#### No uses expresiones regulares. \n",
    "#### Pista: utiliza la función find()"
   ]
  },
  {
   "cell_type": "code",
   "execution_count": 13,
   "metadata": {
    "scrolled": true
   },
   "outputs": [],
   "source": [
    "my_dna = \"ACTGATCGATTACGTATAGTATTTGCTATGAATTCCATACATATATATCGATGCGTTCAT\""
   ]
  },
  {
   "cell_type": "code",
   "execution_count": 15,
   "metadata": {},
   "outputs": [
    {
     "name": "stdout",
     "output_type": "stream",
     "text": [
      "fragmento1: ACTGATCGATTACGTATAGTATTTGCTATG\n",
      "fragmento2: AATTCCATACATATATATCGATGCGTTCAT\n"
     ]
    }
   ],
   "source": [
    "posicion_de_corte = my_dna.find(\"GAATTC\") #indicamos el sitio de corte de la enzima\n",
    "\n",
    "if posicion_de_corte != -1:\n",
    "    fragmento1 = my_dna [:posicion_de_corte+1] #dividimos ambos fragmentos del corte y los nombramos\n",
    "    fragmento2 = my_dna [posicion_de_corte+1:]\n",
    "    print(\"fragmento1:\", fragmento1)\n",
    "    print(\"fragmento2:\", fragmento2)"
   ]
  },
  {
   "cell_type": "markdown",
   "metadata": {},
   "source": [
    "##\n",
    "### 3.- ENCUENTRA LOS EXONES\n",
    "#### Encuentra los exones en la siguiente secuencia\n",
    "1. El primer exón va de la primera base a la base 63 (empieza a contar desde 0)\n",
    "2. El segundo exón va de la base 91 (contando desde 0) hasta el final\n",
    "3. Calcula el porcentaje de secuencia codificante\n",
    "4. Imprime en pantalla la secuencia original con los exones en mayúsculas y los intrones en minúsculas"
   ]
  },
  {
   "cell_type": "code",
   "execution_count": 16,
   "metadata": {},
   "outputs": [],
   "source": [
    "genomic_dna = \"ATCGATCGATCGATCGACTGACTAGTCATAGCTATGCATGTAGCTACTCGATCGATCGATCGATCGATCGATCGATCGATCGATCATGCTATCATCGATCGATATCGATGCATCGACTACTAT\""
   ]
  },
  {
   "cell_type": "code",
   "execution_count": 17,
   "metadata": {},
   "outputs": [
    {
     "name": "stdout",
     "output_type": "stream",
     "text": [
      "Exon 1: ATCGATCGATCGATCGACTGACTAGTCATAGCTATGCATGTAGCTACTCGATCGATCGATCGAT\n",
      "Exon 2: ATCATCGATCGATATCGATGCATCGACTACTAT\n"
     ]
    }
   ],
   "source": [
    "# Definimos los límites de los exones\n",
    "inicio_exon1 = 0\n",
    "fin_exon1 = 63\n",
    "inicio_exon2 = 90\n",
    "fin_exon2 = len(genomic_dna)\n",
    "\n",
    "# Obtenemos los exones\n",
    "exon1 = genomic_dna[inicio_exon1:fin_exon1 + 1]  # Sumamos 1 para incluir la base 63\n",
    "exon2 = genomic_dna[inicio_exon2:fin_exon2]\n",
    "\n",
    "print(\"Exon 1:\", exon1)\n",
    "print(\"Exon 2:\", exon2)"
   ]
  },
  {
   "cell_type": "code",
   "execution_count": 20,
   "metadata": {},
   "outputs": [
    {
     "name": "stdout",
     "output_type": "stream",
     "text": [
      "Porcentaje de region codificante: 78.86%\n"
     ]
    }
   ],
   "source": [
    "\n",
    "longitud_dna = len(genomic_dna)# Calculamos el porcentaje de secuencia codificante\n",
    "longitud_exon1 = len(exon1)\n",
    "longitud_exon2 = len(exon2)\n",
    "\n",
    "porcentaje_region_codificante = (longitud_exon1 + longitud_exon2) /longitud_dna*100\n",
    "\n",
    "\n",
    "print(\"Porcentaje de region codificante: {:.2f}%\".format (porcentaje_region_codificante))\n"
   ]
  },
  {
   "cell_type": "code",
   "execution_count": 28,
   "metadata": {},
   "outputs": [
    {
     "name": "stdout",
     "output_type": "stream",
     "text": [
      "Secuencia:ATCGATCGATCGATCGACTGACTAGTCATAGCTATGCATGTAGCTACTCGATCGATCGATCGATcgatcgatcgatcgatcgatcatgctatcatcgatcgatatcgatgcatcgactactatatcgatcgatcgatcgactgactagtcatagctatgcatgtagctactcgatcgatcgatcgatcgatcgatcgatcgatcgatcatgctATCATCGATCGATATCGATGCATCGACTACTAT\n"
     ]
    }
   ],
   "source": [
    "secuencia_cambiada = \"\"\n",
    "\n",
    "for i in range(len(genomic_dna)):\n",
    "    if i >= inicio_exon1 and i <= fin_exon1:\n",
    "        secuencia_cambiada += genomic_dna[i].upper()\n",
    "    else:\n",
    "        secuencia_cambiada += genomic_dna[i].lower()\n",
    "        \n",
    "for i in range(len(genomic_dna)):\n",
    "    if i >= inicio_exon2:\n",
    "        secuencia_cambiada += genomic_dna[i].upper()\n",
    "    else:\n",
    "        secuencia_cambiada += genomic_dna[i].lower()\n",
    "        \n",
    "print(\"Secuencia:\" + secuencia_cambiada)"
   ]
  },
  {
   "cell_type": "markdown",
   "metadata": {},
   "source": [
    "##\n",
    "### 4.- ESCRIBE UN ARCHIVO FASTA\n",
    "#### Escribe un archivo FASTA que tenga las siguientes secuencias:\n",
    "1. ABC123 \tATCGTACGATCGATCGATCGCTAGACGTATCG\n",
    "2. DEF456 \tactgatcgacgatcgatcgatcacgact\n",
    "3. HIJ789 \tACTGAC-ACTGT--ACTGTA----CATGTG\n",
    "\n",
    "###### *Ten en cuenta que todas las secuencias deben tener solo ATGC caracteres y tienen que estar en mayúsculas\n",
    "###### Recuerda que las secuencias en FASTA empiezan por una línea \">identificador\" y la siguiente línea tiene la secuencia\n",
    "\n",
    "###### >ABC123\n",
    "###### ATCGTACGATCGATCGATCGCTAGACGTATCG\n",
    "###### >DEF456\n",
    "###### ACTGATCGACGATCGATCGATCACGACT\n",
    "###### >HIJ789\n",
    "###### ACTGACACTGTACTGTACATGTG"
   ]
  },
  {
   "cell_type": "code",
   "execution_count": 29,
   "metadata": {},
   "outputs": [
    {
     "name": "stdout",
     "output_type": "stream",
     "text": [
      "ABC123\n",
      "ATCGTACGATCGATCGATCGCTAGACGTATCG\n",
      "DEF456\n",
      "actgatcgacgatcgatcgatcacgact\n",
      "HIJ789\n",
      "ACTGAC-ACTGT--ACTGTA----CATGTG\n"
     ]
    }
   ],
   "source": [
    "d={\n",
    "    'ABC123' :'ATCGTACGATCGATCGATCGCTAGACGTATCG',\n",
    "    'DEF456' : 'actgatcgacgatcgatcgatcacgact',\n",
    "    'HIJ789' : 'ACTGAC-ACTGT--ACTGTA----CATGTG'\n",
    "}\n",
    "\n",
    "for key in d.keys():\n",
    "    print(key)\n",
    "    print(d[key])"
   ]
  },
  {
   "cell_type": "code",
   "execution_count": 44,
   "metadata": {},
   "outputs": [],
   "source": [
    "\n",
    "secuencia1 = \"ATCGTACGATCGATCGATCGCTAGACGTATCG\" # Definimos las secuencias\n",
    "secuencia2 = \"ACTGATCGACGATCGATCGATCACGACT\"\n",
    "secuencia3 = \"ACTGAC-ACTGT--ACTGTA----CATGTG\"\n",
    "\n",
    "\n",
    "secuencia1 = secuencia1.upper().replace(\"-\", \"\") #limpiamos las secuencias\n",
    "secuencia2 = secuencia2.upper().replace(\"-\", \"\")\n",
    "secuencia3 = secuencia3.upper().replace(\"-\", \"\")\n",
    "\n",
    "# Creamos un archivo FASTA\n",
    "with open(\"secuencias.fasta\", \"w\") as archivo:\n",
    "    archivo.write(\">ABC123\\n\")\n",
    "    archivo.write(secuencia1 + \"\\n\")\n",
    "    archivo.write(\">DEF456\\n\")\n",
    "    archivo.write(secuencia2 + \"\\n\")\n",
    "    archivo.write(\">HIJ789\\n\")\n",
    "    archivo.write(secuencia3 + \"\\n\")"
   ]
  },
  {
   "cell_type": "markdown",
   "metadata": {},
   "source": [
    "##\n",
    "### 5.- ELIMINA ADAPTADORES\n",
    "#### El archivo input.txt tiene unas secuencias de ADN, una por línea. \n",
    "#### Todas las secuencias empiezan con el mismo adaptador que llega hasta la base 14. Escribe un programa que:\n",
    "1. Remueva el adaptador de la secuencia y escriba la secuencia limpia en un archivo\n",
    "2. Imprima en pantalla la longitud de cada secuencia limpia"
   ]
  },
  {
   "cell_type": "code",
   "execution_count": 32,
   "metadata": {},
   "outputs": [],
   "source": [
    "archivo_entrada = \"input.txt\" # Definimos el nombre del archivo de entrada y salida\n",
    "archivo_salida = \"output.txt\""
   ]
  },
  {
   "cell_type": "code",
   "execution_count": 33,
   "metadata": {},
   "outputs": [
    {
     "name": "stdout",
     "output_type": "stream",
     "text": [
      "Longitud de la secuencia limpia: 42\n",
      "Longitud de la secuencia limpia: 37\n",
      "Longitud de la secuencia limpia: 48\n",
      "Longitud de la secuencia limpia: 33\n",
      "Longitud de la secuencia limpia: 47\n"
     ]
    }
   ],
   "source": [
    "# Abrimos el archivo de entrada en modo lectura\n",
    "with open(archivo_entrada, \"r\") as entrada:\n",
    "   \n",
    "    with open(archivo_salida, \"w\") as salida: # Abrimos el archivo de salida en modo escritura\n",
    "        for linea in entrada:\n",
    "            \n",
    "            secuencia_limpia = linea[14:].strip()\n",
    "           \n",
    "            salida.write(secuencia_limpia + \"\\n\") # Escribimos la secuencia limpia en el archivo de salida\n",
    "           \n",
    "            print(f\"Longitud de la secuencia limpia: {len(secuencia_limpia)}\") # Imprimimos la longitud de la secuencia limpia en pantalla"
   ]
  },
  {
   "cell_type": "markdown",
   "metadata": {},
   "source": [
    "##\n",
    "### 6.- PORCENTAJE DE AMINO ACIDOS\n",
    "#### Escribe una función que tome dos argumentos: una secuencia de proteínas y un amino ácido. \n",
    "#### Queremos que devuelva el porcentaje del amino ácido en la secuencia de proteínas. \n",
    "#### Una vez que tengas hecha tu función, emplea las siguientes aserciones para comprobar tu código."
   ]
  },
  {
   "cell_type": "code",
   "execution_count": 35,
   "metadata": {},
   "outputs": [],
   "source": [
    "def calcular_porcentaje_aminoacido(secuencia_proteina, aminoacido): \n",
    "    secuencia_proteina = secuencia_proteina.upper()\n",
    "    conteo_aminoacido = secuencia_proteina.count(aminoacido.upper())\n",
    "    porcentaje = (conteo_aminoacido/len(secuencia_proteina))*100\n",
    "    return porcentaje"
   ]
  },
  {
   "cell_type": "code",
   "execution_count": 37,
   "metadata": {},
   "outputs": [],
   "source": [
    "assert calcular_porcentaje_aminoacido(\"MSRSLLLRFLLFLLLLPPLP\", \"M\") == 5 #para comprobar el código anterior\n",
    "assert calcular_porcentaje_aminoacido(\"MSRSLLLRFLLFLLLLPPLP\", \"r\") == 10\n",
    "assert calcular_porcentaje_aminoacido(\"msrslllrfllfllllpplp\", \"L\") == 50\n",
    "assert calcular_porcentaje_aminoacido(\"MSRSLLLRFLLFLLLLPPLP\", \"Y\") == 0"
   ]
  },
  {
   "cell_type": "code",
   "execution_count": 38,
   "metadata": {},
   "outputs": [
    {
     "name": "stdout",
     "output_type": "stream",
     "text": [
      "5.0\n",
      "10.0\n",
      "50.0\n",
      "0.0\n"
     ]
    }
   ],
   "source": [
    "print(calcular_porcentaje_aminoacido(\"MSRSLLLRFLLFLLLLPPLP\", \"M\")) #para comprobar la función\n",
    "print(calcular_porcentaje_aminoacido(\"MSRSLLLRFLLFLLLLPPLP\", \"r\")) \n",
    "print(calcular_porcentaje_aminoacido(\"msrslllrfllfllllpplp\", \"L\"))\n",
    "print(calcular_porcentaje_aminoacido(\"MSRSLLLRFLLFLLLLPPLP\", \"Y\")) "
   ]
  }
 ],
 "metadata": {
  "kernelspec": {
   "display_name": "Python 3 (ipykernel)",
   "language": "python",
   "name": "python3"
  },
  "language_info": {
   "codemirror_mode": {
    "name": "ipython",
    "version": 3
   },
   "file_extension": ".py",
   "mimetype": "text/x-python",
   "name": "python",
   "nbconvert_exporter": "python",
   "pygments_lexer": "ipython3",
   "version": "3.11.5"
  }
 },
 "nbformat": 4,
 "nbformat_minor": 4
}
