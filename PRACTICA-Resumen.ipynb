{
 "cells": [
  {
   "cell_type": "markdown",
   "id": "985e6f9b",
   "metadata": {},
   "source": [
    "# PRACTICA 6\n",
    "\n",
    "### ¡Con todo lo aprendido con Python, vamos a resolver unos ejercicios de Bioinformática!\n",
    "\n",
    "#### 1.- Concatena las cadenas ATGCC y TCCG"
   ]
  },
  {
   "cell_type": "code",
   "execution_count": 2,
   "id": "e00eca4b",
   "metadata": {
    "tags": []
   },
   "outputs": [],
   "source": [
    "a=\"ATGCC\"\n",
    "b=\"TCCG\""
   ]
  },
  {
   "cell_type": "code",
   "execution_count": 3,
   "id": "d446480a-366b-4f98-8bb1-b7188ccb6bdb",
   "metadata": {
    "tags": []
   },
   "outputs": [
    {
     "data": {
      "text/plain": [
       "'ATGCCTCCG'"
      ]
     },
     "execution_count": 3,
     "metadata": {},
     "output_type": "execute_result"
    }
   ],
   "source": [
    "a+b"
   ]
  },
  {
   "cell_type": "markdown",
   "id": "1f4b7708",
   "metadata": {},
   "source": [
    "#### 2.- ¿Cuál es la longitud de ATGCGAGT?"
   ]
  },
  {
   "cell_type": "code",
   "execution_count": 5,
   "id": "8f78cad8",
   "metadata": {
    "tags": []
   },
   "outputs": [],
   "source": [
    "dna=\"ATGCGAGT\""
   ]
  },
  {
   "cell_type": "code",
   "execution_count": 6,
   "id": "5c05659e-b745-4e89-a122-f61d69932ff6",
   "metadata": {
    "tags": []
   },
   "outputs": [
    {
     "data": {
      "text/plain": [
       "8"
      ]
     },
     "execution_count": 6,
     "metadata": {},
     "output_type": "execute_result"
    }
   ],
   "source": [
    "len(dna)"
   ]
  },
  {
   "cell_type": "markdown",
   "id": "6361c287",
   "metadata": {},
   "source": [
    "#### 3.- Con la cadena mgXDyTw, ponla en mayúsculas, luego en minúsculas. Extrae su longitud y divide la cadena por la letra \"g\""
   ]
  },
  {
   "cell_type": "code",
   "execution_count": 9,
   "id": "b69beca1",
   "metadata": {
    "tags": []
   },
   "outputs": [],
   "source": [
    "cadena=\"mgXDyTw\""
   ]
  },
  {
   "cell_type": "code",
   "execution_count": 10,
   "id": "eca1e236-7b22-4834-b33d-314f1b73b6cd",
   "metadata": {
    "tags": []
   },
   "outputs": [
    {
     "data": {
      "text/plain": [
       "'MGXDYTW'"
      ]
     },
     "execution_count": 10,
     "metadata": {},
     "output_type": "execute_result"
    }
   ],
   "source": [
    "cadena.upper()"
   ]
  },
  {
   "cell_type": "code",
   "execution_count": 14,
   "id": "95f551a9-c8fa-4c49-a0df-1d8d5b1f63f8",
   "metadata": {
    "tags": []
   },
   "outputs": [],
   "source": [
    "cadenamin=cadena.lower()"
   ]
  },
  {
   "cell_type": "code",
   "execution_count": 12,
   "id": "41d6cae2-855c-4f46-8659-54b90b77eca9",
   "metadata": {
    "tags": []
   },
   "outputs": [
    {
     "data": {
      "text/plain": [
       "7"
      ]
     },
     "execution_count": 12,
     "metadata": {},
     "output_type": "execute_result"
    }
   ],
   "source": [
    "len(cadena)"
   ]
  },
  {
   "cell_type": "code",
   "execution_count": 16,
   "id": "836ced0f-9af6-47b7-b95c-c9cc8bb5e638",
   "metadata": {
    "tags": []
   },
   "outputs": [
    {
     "data": {
      "text/plain": [
       "'mgxdytw'"
      ]
     },
     "execution_count": 16,
     "metadata": {},
     "output_type": "execute_result"
    }
   ],
   "source": [
    "cadenamin"
   ]
  },
  {
   "cell_type": "code",
   "execution_count": 17,
   "id": "880633b1-3e78-4d4e-83ef-5665bfc28468",
   "metadata": {
    "tags": []
   },
   "outputs": [
    {
     "data": {
      "text/plain": [
       "['m', 'xdytw']"
      ]
     },
     "execution_count": 17,
     "metadata": {},
     "output_type": "execute_result"
    }
   ],
   "source": [
    "cadenamin.split(\"g\")"
   ]
  },
  {
   "cell_type": "markdown",
   "id": "91c2ca9d",
   "metadata": {},
   "source": [
    "#### 4.- Con la secuencia de aminoácidos vlspadktnv, reemplaza la valina con la tirosina. Pista: usa replace()"
   ]
  },
  {
   "cell_type": "code",
   "execution_count": 18,
   "id": "a049ecdd",
   "metadata": {
    "tags": []
   },
   "outputs": [],
   "source": [
    "aa = \"vlspadktnv\""
   ]
  },
  {
   "cell_type": "code",
   "execution_count": 20,
   "id": "fe271614-b25c-460a-a86b-024db9df0fc2",
   "metadata": {
    "tags": []
   },
   "outputs": [],
   "source": [
    "aareplace=aa.replace(\"v\", \"y\")"
   ]
  },
  {
   "cell_type": "code",
   "execution_count": 21,
   "id": "c8c18bc4-1278-4421-b9ef-a7fa9558e85e",
   "metadata": {
    "tags": []
   },
   "outputs": [
    {
     "data": {
      "text/plain": [
       "'ylspadktny'"
      ]
     },
     "execution_count": 21,
     "metadata": {},
     "output_type": "execute_result"
    }
   ],
   "source": [
    "aareplace"
   ]
  },
  {
   "cell_type": "markdown",
   "id": "97f9ecd6",
   "metadata": {},
   "source": [
    "#### 5.- Cuenta las valinas de la secuencia original anterior."
   ]
  },
  {
   "cell_type": "code",
   "execution_count": 24,
   "id": "5a0beecf",
   "metadata": {
    "tags": []
   },
   "outputs": [
    {
     "name": "stdout",
     "output_type": "stream",
     "text": [
      "valines:2\n"
     ]
    }
   ],
   "source": [
    "valines=aa.count(\"v\")\n",
    "print(f'valines:{valines}')"
   ]
  },
  {
   "cell_type": "markdown",
   "id": "6aac8e24",
   "metadata": {},
   "source": [
    "#### 6.- Con el diccionario siguiente imprime el valor de BisI y saca el valor de EcoRI con pop(). ¿Qué pasa con el diccionario?"
   ]
  },
  {
   "cell_type": "code",
   "execution_count": 29,
   "id": "c0c811d7",
   "metadata": {
    "tags": []
   },
   "outputs": [],
   "source": [
    "enzR = {\n",
    "    'EcoRI':r'GAATTC',\n",
    "    'AvaII':r'GG(A|T)CC',   #GG A o T CC\n",
    "    'BisI':r'GC[ATGC]GC'\n",
    "}"
   ]
  },
  {
   "cell_type": "code",
   "execution_count": 31,
   "id": "85c6bb10-afa6-42b3-a49f-4a356d0bf1e5",
   "metadata": {
    "tags": []
   },
   "outputs": [
    {
     "data": {
      "text/plain": [
       "'GC[ATGC]GC'"
      ]
     },
     "execution_count": 31,
     "metadata": {},
     "output_type": "execute_result"
    }
   ],
   "source": [
    "enzR['BisI']"
   ]
  },
  {
   "cell_type": "code",
   "execution_count": 32,
   "id": "7a4a395f-dc1c-40fe-a5ea-2390a9d82b5d",
   "metadata": {
    "tags": []
   },
   "outputs": [
    {
     "data": {
      "text/plain": [
       "'GAATTC'"
      ]
     },
     "execution_count": 32,
     "metadata": {},
     "output_type": "execute_result"
    }
   ],
   "source": [
    "enzR.pop('EcoRI')"
   ]
  },
  {
   "cell_type": "code",
   "execution_count": 33,
   "id": "aaab3010-b6b5-4617-842c-4e52cac151f9",
   "metadata": {
    "tags": []
   },
   "outputs": [
    {
     "data": {
      "text/plain": [
       "{'AvaII': 'GG(A|T)CC', 'BisI': 'GC[ATGC]GC'}"
      ]
     },
     "execution_count": 33,
     "metadata": {},
     "output_type": "execute_result"
    }
   ],
   "source": [
    "enzR"
   ]
  },
  {
   "cell_type": "markdown",
   "id": "4646bddd",
   "metadata": {},
   "source": [
    "#### 7.- Con la secuencia y la lista siguiente, escribe un algoritmo que cuente el número de veces que aparece un elemento de la lista en la secuencia. Pista: hacer un diccionario para almacenar los resultados puede ser buena idea"
   ]
  },
  {
   "cell_type": "code",
   "execution_count": 44,
   "id": "0a701a5e",
   "metadata": {
    "tags": []
   },
   "outputs": [],
   "source": [
    "dna = \"AATGATGAACGAC\" \n",
    "dinucleotides = ['AA','AT','AG','AC', \n",
    "                 'TA','TT','TG','TC', \n",
    "                 'GA','GT','GG','GC', \n",
    "                 'CA','CT','CG','CT'] "
   ]
  },
  {
   "cell_type": "code",
   "execution_count": 49,
   "id": "bc94e596-f2c4-4c0f-8491-6f3a03653d7d",
   "metadata": {
    "tags": []
   },
   "outputs": [
    {
     "data": {
      "text/plain": [
       "{'AA': 2,\n",
       " 'AT': 2,\n",
       " 'AG': 0,\n",
       " 'AC': 2,\n",
       " 'TA': 0,\n",
       " 'TT': 0,\n",
       " 'TG': 2,\n",
       " 'TC': 0,\n",
       " 'GA': 3,\n",
       " 'GT': 0,\n",
       " 'GG': 0,\n",
       " 'GC': 0,\n",
       " 'CA': 0,\n",
       " 'CT': 0,\n",
       " 'CG': 1}"
      ]
     },
     "execution_count": 49,
     "metadata": {},
     "output_type": "execute_result"
    }
   ],
   "source": [
    "dict_dnt={}\n",
    "for dnt in dinucleotides:\n",
    "    conteo=dna.count(dnt)\n",
    "    dict_dnt[dnt]=conteo\n",
    "dict_dnt"
   ]
  },
  {
   "cell_type": "markdown",
   "id": "a44b5e4c",
   "metadata": {},
   "source": [
    "##### ¿Cuántos counts tiene TC?"
   ]
  },
  {
   "cell_type": "code",
   "execution_count": 54,
   "id": "74cea684",
   "metadata": {
    "tags": []
   },
   "outputs": [
    {
     "data": {
      "text/plain": [
       "0"
      ]
     },
     "execution_count": 54,
     "metadata": {},
     "output_type": "execute_result"
    }
   ],
   "source": [
    "dict_dnt['TC']"
   ]
  },
  {
   "cell_type": "code",
   "execution_count": 67,
   "id": "14b3b679-58e4-4b70-8add-61ffc68f8fc2",
   "metadata": {
    "tags": []
   },
   "outputs": [],
   "source": [
    "##### ¿Puedes imprimir los dinuleótidos que tengan counts igual a 2?"
   ]
  },
  {
   "cell_type": "code",
   "execution_count": 72,
   "id": "0ff8f3e6-5b97-4318-a85e-272f368793fc",
   "metadata": {
    "tags": []
   },
   "outputs": [
    {
     "name": "stdout",
     "output_type": "stream",
     "text": [
      "La keyAA tiene el valor 2\n",
      "La keyAT tiene el valor 2\n",
      "La keyAC tiene el valor 2\n",
      "La keyTG tiene el valor 2\n"
     ]
    }
   ],
   "source": [
    "for key in dict_dnt.keys():\n",
    "    valor=dict_dnt[key]\n",
    "    if valor==2:\n",
    "        print(f'La key{key} tiene el valor {valor}')"
   ]
  },
  {
   "cell_type": "code",
   "execution_count": 60,
   "id": "72ee631f",
   "metadata": {
    "tags": []
   },
   "outputs": [
    {
     "name": "stdout",
     "output_type": "stream",
     "text": [
      "AA\n",
      "AC\n",
      "AT\n",
      "TG\n"
     ]
    }
   ],
   "source": [
    "for i in sorted(dict_dnt.keys()):\n",
    "    if dict_dnt[i]==2:\n",
    "        print(i)\n",
    "                "
   ]
  },
  {
   "cell_type": "markdown",
   "id": "28748e51",
   "metadata": {},
   "source": [
    "##### 8.- Abre el fichero dna.txt, guarda una lista del contenido del archivo. Devuelve su longitud y su primer caracter"
   ]
  },
  {
   "cell_type": "code",
   "execution_count": 79,
   "id": "2d430f33",
   "metadata": {
    "tags": []
   },
   "outputs": [],
   "source": [
    "file=open(\"dna.txt\")"
   ]
  },
  {
   "cell_type": "code",
   "execution_count": 80,
   "id": "691c9516-0425-4ecb-a927-18d255b1234d",
   "metadata": {
    "tags": []
   },
   "outputs": [],
   "source": [
    "all_lines=file.readlines()"
   ]
  },
  {
   "cell_type": "code",
   "execution_count": 81,
   "id": "28d9a900-aea3-4f28-bcc4-909b020cf7ef",
   "metadata": {
    "tags": []
   },
   "outputs": [],
   "source": [
    "file.close()"
   ]
  },
  {
   "cell_type": "code",
   "execution_count": 82,
   "id": "35727e4d-5b8b-4760-86a3-931f092eedf8",
   "metadata": {
    "tags": []
   },
   "outputs": [
    {
     "data": {
      "text/plain": [
       "['ATCGATCGATCGATCGACTGACTAGTCATAGCTATGCATGTAGCTACTCGATCGATCGATCGATCGATCGATCGATCGATCGATCATGCTATCATCGATCGATATCGATGCATCGACTACTAT']"
      ]
     },
     "execution_count": 82,
     "metadata": {},
     "output_type": "execute_result"
    }
   ],
   "source": [
    "all_lines"
   ]
  },
  {
   "cell_type": "code",
   "execution_count": 83,
   "id": "25fe7168-d206-4bc1-94a9-108d9eedcddb",
   "metadata": {
    "tags": []
   },
   "outputs": [
    {
     "data": {
      "text/plain": [
       "1"
      ]
     },
     "execution_count": 83,
     "metadata": {},
     "output_type": "execute_result"
    }
   ],
   "source": [
    "len(all_lines)"
   ]
  },
  {
   "cell_type": "code",
   "execution_count": 85,
   "id": "4b8c5412-3384-4b46-9388-96158964faa1",
   "metadata": {
    "tags": []
   },
   "outputs": [
    {
     "data": {
      "text/plain": [
       "123"
      ]
     },
     "execution_count": 85,
     "metadata": {},
     "output_type": "execute_result"
    }
   ],
   "source": [
    "len(all_lines[0]) #ultimo elemento de la lista, hay 123 elementos"
   ]
  },
  {
   "cell_type": "code",
   "execution_count": 86,
   "id": "250be9fc-20a0-4c2b-a87c-d9dcd7cfabfe",
   "metadata": {
    "tags": []
   },
   "outputs": [
    {
     "data": {
      "text/plain": [
       "'ATCGATCGATCGATCGACTGACTAGTCATAGCTATGCATGTAGCTACTCGATCGATCGATCGATCGATCGATCGATCGATCGATCATGCTATCATCGATCGATATCGATGCATCGACTACTAT'"
      ]
     },
     "execution_count": 86,
     "metadata": {},
     "output_type": "execute_result"
    }
   ],
   "source": [
    "cadena_dna=all_lines[0]\n",
    "cadena_dna"
   ]
  },
  {
   "cell_type": "code",
   "execution_count": 87,
   "id": "0c16d879-592f-44ac-b2d6-43c1629e43bd",
   "metadata": {
    "tags": []
   },
   "outputs": [
    {
     "data": {
      "text/plain": [
       "'A'"
      ]
     },
     "execution_count": 87,
     "metadata": {},
     "output_type": "execute_result"
    }
   ],
   "source": [
    "cadena_dna[0]"
   ]
  },
  {
   "cell_type": "markdown",
   "id": "9b87396a",
   "metadata": {},
   "source": [
    "##### 9.- Crea dos archivos. Uno almacena los accession que empiezen por 'a' y el otro el resto"
   ]
  },
  {
   "cell_type": "code",
   "execution_count": 43,
   "id": "73957856",
   "metadata": {},
   "outputs": [],
   "source": [
    "accs = ['ab56', 'bh84', 'hv76', 'ay93', 'ap97', 'bd72']"
   ]
  },
  {
   "cell_type": "code",
   "execution_count": 88,
   "id": "a5dd0b38-cb77-4689-bc0d-aa38795c3e08",
   "metadata": {
    "tags": []
   },
   "outputs": [
    {
     "ename": "SyntaxError",
     "evalue": "unterminated string literal (detected at line 2) (2301479406.py, line 2)",
     "output_type": "error",
     "traceback": [
      "\u001b[1;36m  Cell \u001b[1;32mIn[88], line 2\u001b[1;36m\u001b[0m\n\u001b[1;33m    file2=open(\"acc_resto.txt, \"w\")\u001b[0m\n\u001b[1;37m                                 ^\u001b[0m\n\u001b[1;31mSyntaxError\u001b[0m\u001b[1;31m:\u001b[0m unterminated string literal (detected at line 2)\n"
     ]
    }
   ],
   "source": [
    "file11=open(\"acc_a.txt\",\"w\")  #w borra info anterior del archhivo, para añadir poner una a\n",
    "file2=open(\"acc_resto.txt, \"w\")"
   ]
  },
  {
   "cell_type": "markdown",
   "id": "9cbb4adf",
   "metadata": {},
   "source": [
    "##### 10.- Imprime solamente los accessions de la lista anterior que empiecen por 'a' y no acaben con '6'. Pista: usa endswith() y startswidth()"
   ]
  },
  {
   "cell_type": "code",
   "execution_count": null,
   "id": "2465a22c",
   "metadata": {},
   "outputs": [],
   "source": []
  },
  {
   "cell_type": "markdown",
   "id": "42c397b0",
   "metadata": {},
   "source": [
    "##### 11.- Escribe una función que cuente el porcentaje de AT de una secuencia"
   ]
  },
  {
   "cell_type": "code",
   "execution_count": null,
   "id": "06f579c2",
   "metadata": {},
   "outputs": [],
   "source": []
  },
  {
   "cell_type": "markdown",
   "id": "054b8f51",
   "metadata": {},
   "source": [
    "##### ¿Puedes hacer que devuelva dos decimales? ¿Y que lidie con mayúsculas y minúsculas?"
   ]
  },
  {
   "cell_type": "code",
   "execution_count": null,
   "id": "8f81e89e",
   "metadata": {},
   "outputs": [],
   "source": []
  },
  {
   "cell_type": "markdown",
   "id": "36a03b5f",
   "metadata": {},
   "source": [
    "##### ¿Y que devuelva el número de decimales que yo quiero?"
   ]
  },
  {
   "cell_type": "code",
   "execution_count": null,
   "id": "8e895533",
   "metadata": {},
   "outputs": [],
   "source": []
  },
  {
   "cell_type": "markdown",
   "id": "2c811d84",
   "metadata": {},
   "source": [
    "##### ¿Sabes poner un valor por defecto en un argumento?"
   ]
  },
  {
   "cell_type": "code",
   "execution_count": null,
   "id": "e29ec064",
   "metadata": {},
   "outputs": [],
   "source": []
  },
  {
   "cell_type": "markdown",
   "id": "ab2c106c",
   "metadata": {},
   "source": [
    "##### ¿Qué pasa si no ponemos un argumento? ¿Sabrías hacer una función encapsulada?"
   ]
  },
  {
   "cell_type": "code",
   "execution_count": null,
   "id": "2ff9001a",
   "metadata": {},
   "outputs": [],
   "source": []
  },
  {
   "cell_type": "markdown",
   "id": "83af4b0f",
   "metadata": {},
   "source": [
    "##### Testea tu función original con assert"
   ]
  },
  {
   "cell_type": "code",
   "execution_count": null,
   "id": "4709dfd0",
   "metadata": {},
   "outputs": [],
   "source": []
  }
 ],
 "metadata": {
  "kernelspec": {
   "display_name": "Python 3 (ipykernel)",
   "language": "python",
   "name": "python3"
  },
  "language_info": {
   "codemirror_mode": {
    "name": "ipython",
    "version": 3
   },
   "file_extension": ".py",
   "mimetype": "text/x-python",
   "name": "python",
   "nbconvert_exporter": "python",
   "pygments_lexer": "ipython3",
   "version": "3.11.5"
  }
 },
 "nbformat": 4,
 "nbformat_minor": 5
}
